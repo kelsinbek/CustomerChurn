{
 "cells": [
  {
   "cell_type": "markdown",
   "source": [
    "## Анализ клиентской оттока и разработка стратегии удержания клиентов.\n",
    "\n",
    "##### Анализ клиентской оттока и разработка стратегии удержания клиентов - это процесс использования данных о клиентах компании для определения, почему клиенты уходят (отток), и разработки методов удержания, чтобы уменьшить этот отток.\n",
    "\n",
    "\n",
    "#### Описания данных\n",
    "\n",
    "##### Признаки\n",
    "\n",
    "\n",
    "1. **customerID**: Уникальный идентификатор клиента.\n",
    "2. **gender**: Пол клиента (мужчина или женщина).\n",
    "3. **SeniorCitizen**: Показатель, указывающий, является ли клиент пенсионером (1) или нет (0).\n",
    "4. **Partner**: Показатель, указывающий, имеет ли клиент партнера (Да или Нет).\n",
    "5. **Dependents**: Показатель, указывающий, есть ли у клиента иждивенцы (Да или Нет).\n",
    "6. **tenure**: Количество месяцев, в течение которых клиент является абонентом услуг компании.\n",
    "7. **PhoneService**: Показатель, указывающий, подключена ли услуга телефонной связи (Да или Нет).\n",
    "8. **MultipleLines**: Показатель, указывающий, подключены ли несколько линий телефонной связи (Да, Нет или Нет телефонной связи).\n",
    "9. **InternetService**: Тип интернет-соединения клиента (DSL, Fiber optic или No).\n",
    "10. **OnlineSecurity**: Показатель, указывающий, подключена ли услуга онлайн-безопасности (Да, Нет или Нет интернета).\n",
    "11. **OnlineBackup**: Показатель, указывающий, подключена ли услуга онлайн-резервного копирования (Да, Нет или Нет интернета).\n",
    "12. **DeviceProtection**: Показатель, указывающий, подключена ли услуга защиты устройства (Да, Нет или Нет интернета).\n",
    "13. **TechSupport**: Показатель, указывающий, подключена ли услуга технической поддержки (Да, Нет или Нет интернета).\n",
    "14. **StreamingTV**: Показатель, указывающий, подключена ли услуга потокового телевидения (Да, Нет или Нет интернета).\n",
    "15. **StreamingMovies**: Показатель, указывающий, подключена ли услуга потоковых фильмов (Да, Нет или Нет интернета).\n",
    "16. **Contract**: Тип контракта клиента (Month-to-month, One year или Two year).\n",
    "17. **PaperlessBilling**: Показатель, указывающий, использует ли клиент безбумажный биллинг (Да или Нет).\n",
    "18. **PaymentMethod**: Способ оплаты услуг (Electronic check, Mailed check, Bank transfer (automatic) или Credit card (automatic)).\n",
    "19. **MonthlyCharges**: Ежемесячная плата клиента за услуги.\n",
    "20. **TotalCharges**: Общая сумма, оплаченная клиентом за услуги на момент выгрузки данных.\n",
    "21. **Churn**: Показатель, указывающий, ушел ли клиент (Да или Нет)."
   ],
   "metadata": {
    "collapsed": false
   },
   "id": "de1af8632ecbc31c"
  },
  {
   "cell_type": "markdown",
   "source": [
    "### Подключение необходимых библиотек"
   ],
   "metadata": {
    "collapsed": false
   },
   "id": "29ba65bd526ba99f"
  },
  {
   "cell_type": "code",
   "execution_count": 2,
   "outputs": [],
   "source": [
    "import pandas as pd\n",
    "\n",
    "import seaborn as sns\n",
    "\n",
    "from sklearn.preprocessing import OneHotEncoder, OrdinalEncoder\n",
    "\n",
    "from sklearn.model_selection import train_test_split as tts\n",
    "\n",
    "from sklearn.preprocessing import StandardScaler\n",
    "\n",
    "from sklearn.linear_model import LogisticRegression as lr\n",
    "from sklearn.tree import DecisionTreeClassifier as dtc\n",
    "from sklearn.ensemble import RandomForestClassifier as rfc\n",
    "\n",
    "from sklearn.model_selection import GridSearchCV as gscv\n",
    "\n",
    "from sklearn.metrics import classification_report\n",
    "from sklearn.metrics import f1_score\n",
    "from sklearn.metrics import roc_auc_score\n",
    "\n",
    "import numpy as np"
   ],
   "metadata": {
    "collapsed": false,
    "ExecuteTime": {
     "end_time": "2023-10-26T09:02:03.314691Z",
     "start_time": "2023-10-26T09:02:02.931438300Z"
    }
   },
   "id": "1173616a50a221b4"
  },
  {
   "cell_type": "markdown",
   "source": [
    "## 1. Подготовка данных\n",
    "\n",
    "##### Рассмотрим csv файл Telco-Customer-Churn"
   ],
   "metadata": {
    "collapsed": false
   },
   "id": "3c891b03d77f3132"
  },
  {
   "cell_type": "code",
   "execution_count": 3,
   "outputs": [
    {
     "name": "stdout",
     "output_type": "stream",
     "text": [
      "<class 'pandas.core.frame.DataFrame'>\n",
      "RangeIndex: 7043 entries, 0 to 7042\n",
      "Data columns (total 21 columns):\n",
      " #   Column            Non-Null Count  Dtype  \n",
      "---  ------            --------------  -----  \n",
      " 0   customerID        7043 non-null   object \n",
      " 1   gender            7043 non-null   object \n",
      " 2   SeniorCitizen     7043 non-null   int64  \n",
      " 3   Partner           7043 non-null   object \n",
      " 4   Dependents        7043 non-null   object \n",
      " 5   tenure            7043 non-null   int64  \n",
      " 6   PhoneService      7043 non-null   object \n",
      " 7   MultipleLines     7043 non-null   object \n",
      " 8   InternetService   7043 non-null   object \n",
      " 9   OnlineSecurity    7043 non-null   object \n",
      " 10  OnlineBackup      7043 non-null   object \n",
      " 11  DeviceProtection  7043 non-null   object \n",
      " 12  TechSupport       7043 non-null   object \n",
      " 13  StreamingTV       7043 non-null   object \n",
      " 14  StreamingMovies   7043 non-null   object \n",
      " 15  Contract          7043 non-null   object \n",
      " 16  PaperlessBilling  7043 non-null   object \n",
      " 17  PaymentMethod     7043 non-null   object \n",
      " 18  MonthlyCharges    7043 non-null   float64\n",
      " 19  TotalCharges      7043 non-null   object \n",
      " 20  Churn             7043 non-null   object \n",
      "dtypes: float64(1), int64(2), object(18)\n",
      "memory usage: 1.1+ MB\n"
     ]
    }
   ],
   "source": [
    "customers = pd.read_csv('dataset\\WA_Fn-UseC_-Telco-Customer-Churn.csv')\n",
    "customers.info()\n"
   ],
   "metadata": {
    "collapsed": false,
    "ExecuteTime": {
     "end_time": "2023-10-26T09:02:06.342681400Z",
     "start_time": "2023-10-26T09:02:06.274496400Z"
    }
   },
   "id": "2af0afb257399ae2"
  },
  {
   "cell_type": "code",
   "execution_count": null,
   "outputs": [],
   "source": [],
   "metadata": {
    "collapsed": false
   },
   "id": "be4a9e0fa2b35804"
  }
 ],
 "metadata": {
  "kernelspec": {
   "display_name": "Python 3",
   "language": "python",
   "name": "python3"
  },
  "language_info": {
   "codemirror_mode": {
    "name": "ipython",
    "version": 2
   },
   "file_extension": ".py",
   "mimetype": "text/x-python",
   "name": "python",
   "nbconvert_exporter": "python",
   "pygments_lexer": "ipython2",
   "version": "2.7.6"
  }
 },
 "nbformat": 4,
 "nbformat_minor": 5
}
