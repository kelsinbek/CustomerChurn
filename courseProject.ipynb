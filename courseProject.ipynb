{
 "cells": [
  {
   "cell_type": "markdown",
   "source": [
    "## Анализ клиентской оттока и разработка стратегии удержания клиентов.\n",
    "\n",
    "##### Анализ клиентской оттока и разработка стратегии удержания клиентов - это процесс использования данных о клиентах компании для определения, почему клиенты уходят (отток), и разработки методов удержания, чтобы уменьшить этот отток.\n",
    "\n",
    "\n",
    "#### Описания данных\n",
    "\n",
    "##### Признаки\n",
    "\n",
    "\n",
    "1. **customerID**: Уникальный идентификатор клиента.\n",
    "2. **gender**: Пол клиента (мужчина или женщина).\n",
    "3. **SeniorCitizen**: Показатель, указывающий, является ли клиент пенсионером (1) или нет (0).\n",
    "4. **Partner**: Показатель, указывающий, имеет ли клиент партнера (Да или Нет).\n",
    "5. **Dependents**: Показатель, указывающий, есть ли у клиента иждивенцы (Да или Нет).\n",
    "6. **tenure**: Количество месяцев, в течение которых клиент является абонентом услуг компании.\n",
    "7. **PhoneService**: Показатель, указывающий, подключена ли услуга телефонной связи (Да или Нет).\n",
    "8. **MultipleLines**: Показатель, указывающий, подключены ли несколько линий телефонной связи (Да, Нет или Нет телефонной связи).\n",
    "9. **InternetService**: Тип интернет-соединения клиента (DSL, Fiber optic или No).\n",
    "10. **OnlineSecurity**: Показатель, указывающий, подключена ли услуга онлайн-безопасности (Да, Нет или Нет интернета).\n",
    "11. **OnlineBackup**: Показатель, указывающий, подключена ли услуга онлайн-резервного копирования (Да, Нет или Нет интернета).\n",
    "12. **DeviceProtection**: Показатель, указывающий, подключена ли услуга защиты устройства (Да, Нет или Нет интернета).\n",
    "13. **TechSupport**: Показатель, указывающий, подключена ли услуга технической поддержки (Да, Нет или Нет интернета).\n",
    "14. **StreamingTV**: Показатель, указывающий, подключена ли услуга потокового телевидения (Да, Нет или Нет интернета).\n",
    "15. **StreamingMovies**: Показатель, указывающий, подключена ли услуга потоковых фильмов (Да, Нет или Нет интернета).\n",
    "16. **Contract**: Тип контракта клиента (Month-to-month, One year или Two year).\n",
    "17. **PaperlessBilling**: Показатель, указывающий, использует ли клиент безбумажный биллинг (Да или Нет).\n",
    "18. **PaymentMethod**: Способ оплаты услуг (Electronic check, Mailed check, Bank transfer (automatic) или Credit card (automatic)).\n",
    "19. **MonthlyCharges**: Ежемесячная плата клиента за услуги.\n",
    "20. **TotalCharges**: Общая сумма, оплаченная клиентом за услуги на момент выгрузки данных.\n",
    "21. **Churn**: Показатель, указывающий, ушел ли клиент (Да или Нет)."
   ],
   "metadata": {
    "collapsed": false
   },
   "id": "de1af8632ecbc31c"
  },
  {
   "cell_type": "markdown",
   "source": [
    "### Подключение необходимых библиотек"
   ],
   "metadata": {
    "collapsed": false
   },
   "id": "29ba65bd526ba99f"
  },
  {
   "cell_type": "code",
   "execution_count": 1,
   "outputs": [],
   "source": [
    "import pandas as pd\n",
    "\n",
    "import seaborn as sns\n",
    "\n",
    "from sklearn.preprocessing import OneHotEncoder, OrdinalEncoder\n",
    "\n",
    "from sklearn.model_selection import train_test_split as tts\n",
    "\n",
    "from sklearn.preprocessing import StandardScaler\n",
    "\n",
    "from sklearn.linear_model import LogisticRegression as lr\n",
    "from sklearn.tree import DecisionTreeClassifier as dtc\n",
    "from sklearn.ensemble import RandomForestClassifier as rfc\n",
    "\n",
    "from sklearn.model_selection import GridSearchCV as gscv\n",
    "\n",
    "from sklearn.metrics import classification_report\n",
    "from sklearn.metrics import f1_score\n",
    "from sklearn.metrics import roc_auc_score\n",
    "\n",
    "import numpy as np"
   ],
   "metadata": {
    "collapsed": false,
    "ExecuteTime": {
     "end_time": "2023-11-15T07:15:51.591701Z",
     "start_time": "2023-11-15T07:15:51.050844100Z"
    }
   },
   "id": "1173616a50a221b4"
  },
  {
   "cell_type": "markdown",
   "source": [
    "## 1. Подготовка данных\n",
    "\n",
    "##### Рассмотрим csv файл Telco-Customer-Churn"
   ],
   "metadata": {
    "collapsed": false
   },
   "id": "3c891b03d77f3132"
  },
  {
   "cell_type": "code",
   "execution_count": 2,
   "outputs": [
    {
     "name": "stdout",
     "output_type": "stream",
     "text": [
      "<class 'pandas.core.frame.DataFrame'>\n",
      "RangeIndex: 7043 entries, 0 to 7042\n",
      "Data columns (total 21 columns):\n",
      " #   Column            Non-Null Count  Dtype  \n",
      "---  ------            --------------  -----  \n",
      " 0   customerID        7043 non-null   object \n",
      " 1   gender            7043 non-null   object \n",
      " 2   SeniorCitizen     7041 non-null   float64\n",
      " 3   Partner           7043 non-null   object \n",
      " 4   Dependents        7043 non-null   object \n",
      " 5   tenure            7043 non-null   int64  \n",
      " 6   PhoneService      7043 non-null   object \n",
      " 7   MultipleLines     7043 non-null   object \n",
      " 8   InternetService   7043 non-null   object \n",
      " 9   OnlineSecurity    7043 non-null   object \n",
      " 10  OnlineBackup      7043 non-null   object \n",
      " 11  DeviceProtection  7043 non-null   object \n",
      " 12  TechSupport       7043 non-null   object \n",
      " 13  StreamingTV       7043 non-null   object \n",
      " 14  StreamingMovies   7043 non-null   object \n",
      " 15  Contract          7043 non-null   object \n",
      " 16  PaperlessBilling  7043 non-null   object \n",
      " 17  PaymentMethod     7043 non-null   object \n",
      " 18  MonthlyCharges    7043 non-null   float64\n",
      " 19  TotalCharges      7043 non-null   object \n",
      " 20  Churn             7043 non-null   object \n",
      "dtypes: float64(2), int64(1), object(18)\n",
      "memory usage: 1.1+ MB\n"
     ]
    }
   ],
   "source": [
    "customers = pd.read_csv('dataset\\WA_Fn-UseC_-Telco-Customer-Churn.csv')\n",
    "customers.info()\n",
    "\n"
   ],
   "metadata": {
    "collapsed": false,
    "ExecuteTime": {
     "end_time": "2023-11-15T07:15:51.703811400Z",
     "start_time": "2023-11-15T07:15:51.591701Z"
    }
   },
   "id": "2af0afb257399ae2"
  },
  {
   "cell_type": "code",
   "execution_count": 3,
   "outputs": [],
   "source": [
    "# Видим пропуски в столбце SeniorCitizen."
   ],
   "metadata": {
    "collapsed": false,
    "ExecuteTime": {
     "end_time": "2023-11-15T07:15:51.716993300Z",
     "start_time": "2023-11-15T07:15:51.703811400Z"
    }
   },
   "id": "be4a9e0fa2b35804"
  },
  {
   "cell_type": "code",
   "execution_count": 4,
   "outputs": [
    {
     "data": {
      "text/plain": "    customerID  gender  SeniorCitizen Partner Dependents  tenure PhoneService  \\\n0   7590-VHVEG  Female            NaN     Yes         No       1           No   \n1   5575-GNVDE    Male            0.0      No         No      34          Yes   \n2   3668-QPYBK    Male            0.0      No         No       2          Yes   \n3   7795-CFOCW    Male            0.0      No         No      45           No   \n4   9237-HQITU  Female            0.0      No         No       2          Yes   \n5   9305-CDSKC  Female            0.0      No         No       8          Yes   \n6   1452-KIOVK    Male            0.0      No        Yes      22          Yes   \n7   6713-OKOMC  Female            0.0      No         No      10           No   \n8   7892-POOKP  Female            0.0     Yes         No      28          Yes   \n9   6388-TABGU    Male            0.0      No        Yes      62          Yes   \n10  9763-GRSKD    Male            0.0     Yes        Yes      13          Yes   \n11  7469-LKBCI    Male            0.0      No         No      16          Yes   \n12  8091-TTVAX    Male            0.0     Yes         No      58          Yes   \n13  0280-XJGEX    Male            0.0      No         No      49          Yes   \n14  5129-JLPIS    Male            0.0      No         No      25          Yes   \n15  3655-SNQYZ  Female            0.0     Yes        Yes      69          Yes   \n16  8191-XWSZG  Female            0.0      No         No      52          Yes   \n17  9959-WOFKT    Male            0.0      No        Yes      71          Yes   \n18  4190-MFLUW  Female            0.0     Yes        Yes      10          Yes   \n19  4183-MYFRB  Female            0.0      No         No      21          Yes   \n\n       MultipleLines InternetService       OnlineSecurity  ...  \\\n0   No phone service             DSL                   No  ...   \n1                 No             DSL                  Yes  ...   \n2                 No             DSL                  Yes  ...   \n3   No phone service             DSL                  Yes  ...   \n4                 No     Fiber optic                   No  ...   \n5                Yes     Fiber optic                   No  ...   \n6                Yes     Fiber optic                   No  ...   \n7   No phone service             DSL                  Yes  ...   \n8                Yes     Fiber optic                   No  ...   \n9                 No             DSL                  Yes  ...   \n10                No             DSL                  Yes  ...   \n11                No              No  No internet service  ...   \n12               Yes     Fiber optic                   No  ...   \n13               Yes     Fiber optic                   No  ...   \n14                No     Fiber optic                  Yes  ...   \n15               Yes     Fiber optic                  Yes  ...   \n16                No              No  No internet service  ...   \n17               Yes     Fiber optic                  Yes  ...   \n18                No             DSL                   No  ...   \n19                No     Fiber optic                   No  ...   \n\n       DeviceProtection          TechSupport          StreamingTV  \\\n0                    No                   No                   No   \n1                   Yes                   No                   No   \n2                    No                   No                   No   \n3                   Yes                  Yes                   No   \n4                    No                   No                   No   \n5                   Yes                   No                  Yes   \n6                    No                   No                  Yes   \n7                    No                   No                   No   \n8                   Yes                  Yes                  Yes   \n9                    No                   No                   No   \n10                   No                   No                   No   \n11  No internet service  No internet service  No internet service   \n12                  Yes                   No                  Yes   \n13                  Yes                   No                  Yes   \n14                  Yes                  Yes                  Yes   \n15                  Yes                  Yes                  Yes   \n16  No internet service  No internet service  No internet service   \n17                  Yes                   No                  Yes   \n18                  Yes                  Yes                   No   \n19                  Yes                   No                   No   \n\n        StreamingMovies        Contract PaperlessBilling  \\\n0                    No  Month-to-month              Yes   \n1                    No        One year               No   \n2                    No  Month-to-month              Yes   \n3                    No        One year               No   \n4                    No  Month-to-month              Yes   \n5                   Yes  Month-to-month              Yes   \n6                    No  Month-to-month              Yes   \n7                    No  Month-to-month               No   \n8                   Yes  Month-to-month              Yes   \n9                    No        One year               No   \n10                   No  Month-to-month              Yes   \n11  No internet service        Two year               No   \n12                  Yes        One year               No   \n13                  Yes  Month-to-month              Yes   \n14                  Yes  Month-to-month              Yes   \n15                  Yes        Two year               No   \n16  No internet service        One year               No   \n17                  Yes        Two year               No   \n18                   No  Month-to-month               No   \n19                  Yes  Month-to-month              Yes   \n\n                PaymentMethod MonthlyCharges  TotalCharges Churn  \n0            Electronic check          29.85         29.85    No  \n1                Mailed check          56.95        1889.5    No  \n2                Mailed check          53.85        108.15   Yes  \n3   Bank transfer (automatic)          42.30       1840.75    No  \n4            Electronic check          70.70        151.65   Yes  \n5            Electronic check          99.65         820.5   Yes  \n6     Credit card (automatic)          89.10        1949.4    No  \n7                Mailed check          29.75         301.9    No  \n8            Electronic check         104.80       3046.05   Yes  \n9   Bank transfer (automatic)          56.15       3487.95    No  \n10               Mailed check          49.95        587.45    No  \n11    Credit card (automatic)          18.95         326.8    No  \n12    Credit card (automatic)         100.35        5681.1    No  \n13  Bank transfer (automatic)         103.70        5036.3   Yes  \n14           Electronic check         105.50       2686.05    No  \n15    Credit card (automatic)         113.25       7895.15    No  \n16               Mailed check          20.65       1022.95    No  \n17  Bank transfer (automatic)         106.70       7382.25    No  \n18    Credit card (automatic)          55.20        528.35   Yes  \n19           Electronic check          90.05        1862.9    No  \n\n[20 rows x 21 columns]",
      "text/html": "<div>\n<style scoped>\n    .dataframe tbody tr th:only-of-type {\n        vertical-align: middle;\n    }\n\n    .dataframe tbody tr th {\n        vertical-align: top;\n    }\n\n    .dataframe thead th {\n        text-align: right;\n    }\n</style>\n<table border=\"1\" class=\"dataframe\">\n  <thead>\n    <tr style=\"text-align: right;\">\n      <th></th>\n      <th>customerID</th>\n      <th>gender</th>\n      <th>SeniorCitizen</th>\n      <th>Partner</th>\n      <th>Dependents</th>\n      <th>tenure</th>\n      <th>PhoneService</th>\n      <th>MultipleLines</th>\n      <th>InternetService</th>\n      <th>OnlineSecurity</th>\n      <th>...</th>\n      <th>DeviceProtection</th>\n      <th>TechSupport</th>\n      <th>StreamingTV</th>\n      <th>StreamingMovies</th>\n      <th>Contract</th>\n      <th>PaperlessBilling</th>\n      <th>PaymentMethod</th>\n      <th>MonthlyCharges</th>\n      <th>TotalCharges</th>\n      <th>Churn</th>\n    </tr>\n  </thead>\n  <tbody>\n    <tr>\n      <th>0</th>\n      <td>7590-VHVEG</td>\n      <td>Female</td>\n      <td>NaN</td>\n      <td>Yes</td>\n      <td>No</td>\n      <td>1</td>\n      <td>No</td>\n      <td>No phone service</td>\n      <td>DSL</td>\n      <td>No</td>\n      <td>...</td>\n      <td>No</td>\n      <td>No</td>\n      <td>No</td>\n      <td>No</td>\n      <td>Month-to-month</td>\n      <td>Yes</td>\n      <td>Electronic check</td>\n      <td>29.85</td>\n      <td>29.85</td>\n      <td>No</td>\n    </tr>\n    <tr>\n      <th>1</th>\n      <td>5575-GNVDE</td>\n      <td>Male</td>\n      <td>0.0</td>\n      <td>No</td>\n      <td>No</td>\n      <td>34</td>\n      <td>Yes</td>\n      <td>No</td>\n      <td>DSL</td>\n      <td>Yes</td>\n      <td>...</td>\n      <td>Yes</td>\n      <td>No</td>\n      <td>No</td>\n      <td>No</td>\n      <td>One year</td>\n      <td>No</td>\n      <td>Mailed check</td>\n      <td>56.95</td>\n      <td>1889.5</td>\n      <td>No</td>\n    </tr>\n    <tr>\n      <th>2</th>\n      <td>3668-QPYBK</td>\n      <td>Male</td>\n      <td>0.0</td>\n      <td>No</td>\n      <td>No</td>\n      <td>2</td>\n      <td>Yes</td>\n      <td>No</td>\n      <td>DSL</td>\n      <td>Yes</td>\n      <td>...</td>\n      <td>No</td>\n      <td>No</td>\n      <td>No</td>\n      <td>No</td>\n      <td>Month-to-month</td>\n      <td>Yes</td>\n      <td>Mailed check</td>\n      <td>53.85</td>\n      <td>108.15</td>\n      <td>Yes</td>\n    </tr>\n    <tr>\n      <th>3</th>\n      <td>7795-CFOCW</td>\n      <td>Male</td>\n      <td>0.0</td>\n      <td>No</td>\n      <td>No</td>\n      <td>45</td>\n      <td>No</td>\n      <td>No phone service</td>\n      <td>DSL</td>\n      <td>Yes</td>\n      <td>...</td>\n      <td>Yes</td>\n      <td>Yes</td>\n      <td>No</td>\n      <td>No</td>\n      <td>One year</td>\n      <td>No</td>\n      <td>Bank transfer (automatic)</td>\n      <td>42.30</td>\n      <td>1840.75</td>\n      <td>No</td>\n    </tr>\n    <tr>\n      <th>4</th>\n      <td>9237-HQITU</td>\n      <td>Female</td>\n      <td>0.0</td>\n      <td>No</td>\n      <td>No</td>\n      <td>2</td>\n      <td>Yes</td>\n      <td>No</td>\n      <td>Fiber optic</td>\n      <td>No</td>\n      <td>...</td>\n      <td>No</td>\n      <td>No</td>\n      <td>No</td>\n      <td>No</td>\n      <td>Month-to-month</td>\n      <td>Yes</td>\n      <td>Electronic check</td>\n      <td>70.70</td>\n      <td>151.65</td>\n      <td>Yes</td>\n    </tr>\n    <tr>\n      <th>5</th>\n      <td>9305-CDSKC</td>\n      <td>Female</td>\n      <td>0.0</td>\n      <td>No</td>\n      <td>No</td>\n      <td>8</td>\n      <td>Yes</td>\n      <td>Yes</td>\n      <td>Fiber optic</td>\n      <td>No</td>\n      <td>...</td>\n      <td>Yes</td>\n      <td>No</td>\n      <td>Yes</td>\n      <td>Yes</td>\n      <td>Month-to-month</td>\n      <td>Yes</td>\n      <td>Electronic check</td>\n      <td>99.65</td>\n      <td>820.5</td>\n      <td>Yes</td>\n    </tr>\n    <tr>\n      <th>6</th>\n      <td>1452-KIOVK</td>\n      <td>Male</td>\n      <td>0.0</td>\n      <td>No</td>\n      <td>Yes</td>\n      <td>22</td>\n      <td>Yes</td>\n      <td>Yes</td>\n      <td>Fiber optic</td>\n      <td>No</td>\n      <td>...</td>\n      <td>No</td>\n      <td>No</td>\n      <td>Yes</td>\n      <td>No</td>\n      <td>Month-to-month</td>\n      <td>Yes</td>\n      <td>Credit card (automatic)</td>\n      <td>89.10</td>\n      <td>1949.4</td>\n      <td>No</td>\n    </tr>\n    <tr>\n      <th>7</th>\n      <td>6713-OKOMC</td>\n      <td>Female</td>\n      <td>0.0</td>\n      <td>No</td>\n      <td>No</td>\n      <td>10</td>\n      <td>No</td>\n      <td>No phone service</td>\n      <td>DSL</td>\n      <td>Yes</td>\n      <td>...</td>\n      <td>No</td>\n      <td>No</td>\n      <td>No</td>\n      <td>No</td>\n      <td>Month-to-month</td>\n      <td>No</td>\n      <td>Mailed check</td>\n      <td>29.75</td>\n      <td>301.9</td>\n      <td>No</td>\n    </tr>\n    <tr>\n      <th>8</th>\n      <td>7892-POOKP</td>\n      <td>Female</td>\n      <td>0.0</td>\n      <td>Yes</td>\n      <td>No</td>\n      <td>28</td>\n      <td>Yes</td>\n      <td>Yes</td>\n      <td>Fiber optic</td>\n      <td>No</td>\n      <td>...</td>\n      <td>Yes</td>\n      <td>Yes</td>\n      <td>Yes</td>\n      <td>Yes</td>\n      <td>Month-to-month</td>\n      <td>Yes</td>\n      <td>Electronic check</td>\n      <td>104.80</td>\n      <td>3046.05</td>\n      <td>Yes</td>\n    </tr>\n    <tr>\n      <th>9</th>\n      <td>6388-TABGU</td>\n      <td>Male</td>\n      <td>0.0</td>\n      <td>No</td>\n      <td>Yes</td>\n      <td>62</td>\n      <td>Yes</td>\n      <td>No</td>\n      <td>DSL</td>\n      <td>Yes</td>\n      <td>...</td>\n      <td>No</td>\n      <td>No</td>\n      <td>No</td>\n      <td>No</td>\n      <td>One year</td>\n      <td>No</td>\n      <td>Bank transfer (automatic)</td>\n      <td>56.15</td>\n      <td>3487.95</td>\n      <td>No</td>\n    </tr>\n    <tr>\n      <th>10</th>\n      <td>9763-GRSKD</td>\n      <td>Male</td>\n      <td>0.0</td>\n      <td>Yes</td>\n      <td>Yes</td>\n      <td>13</td>\n      <td>Yes</td>\n      <td>No</td>\n      <td>DSL</td>\n      <td>Yes</td>\n      <td>...</td>\n      <td>No</td>\n      <td>No</td>\n      <td>No</td>\n      <td>No</td>\n      <td>Month-to-month</td>\n      <td>Yes</td>\n      <td>Mailed check</td>\n      <td>49.95</td>\n      <td>587.45</td>\n      <td>No</td>\n    </tr>\n    <tr>\n      <th>11</th>\n      <td>7469-LKBCI</td>\n      <td>Male</td>\n      <td>0.0</td>\n      <td>No</td>\n      <td>No</td>\n      <td>16</td>\n      <td>Yes</td>\n      <td>No</td>\n      <td>No</td>\n      <td>No internet service</td>\n      <td>...</td>\n      <td>No internet service</td>\n      <td>No internet service</td>\n      <td>No internet service</td>\n      <td>No internet service</td>\n      <td>Two year</td>\n      <td>No</td>\n      <td>Credit card (automatic)</td>\n      <td>18.95</td>\n      <td>326.8</td>\n      <td>No</td>\n    </tr>\n    <tr>\n      <th>12</th>\n      <td>8091-TTVAX</td>\n      <td>Male</td>\n      <td>0.0</td>\n      <td>Yes</td>\n      <td>No</td>\n      <td>58</td>\n      <td>Yes</td>\n      <td>Yes</td>\n      <td>Fiber optic</td>\n      <td>No</td>\n      <td>...</td>\n      <td>Yes</td>\n      <td>No</td>\n      <td>Yes</td>\n      <td>Yes</td>\n      <td>One year</td>\n      <td>No</td>\n      <td>Credit card (automatic)</td>\n      <td>100.35</td>\n      <td>5681.1</td>\n      <td>No</td>\n    </tr>\n    <tr>\n      <th>13</th>\n      <td>0280-XJGEX</td>\n      <td>Male</td>\n      <td>0.0</td>\n      <td>No</td>\n      <td>No</td>\n      <td>49</td>\n      <td>Yes</td>\n      <td>Yes</td>\n      <td>Fiber optic</td>\n      <td>No</td>\n      <td>...</td>\n      <td>Yes</td>\n      <td>No</td>\n      <td>Yes</td>\n      <td>Yes</td>\n      <td>Month-to-month</td>\n      <td>Yes</td>\n      <td>Bank transfer (automatic)</td>\n      <td>103.70</td>\n      <td>5036.3</td>\n      <td>Yes</td>\n    </tr>\n    <tr>\n      <th>14</th>\n      <td>5129-JLPIS</td>\n      <td>Male</td>\n      <td>0.0</td>\n      <td>No</td>\n      <td>No</td>\n      <td>25</td>\n      <td>Yes</td>\n      <td>No</td>\n      <td>Fiber optic</td>\n      <td>Yes</td>\n      <td>...</td>\n      <td>Yes</td>\n      <td>Yes</td>\n      <td>Yes</td>\n      <td>Yes</td>\n      <td>Month-to-month</td>\n      <td>Yes</td>\n      <td>Electronic check</td>\n      <td>105.50</td>\n      <td>2686.05</td>\n      <td>No</td>\n    </tr>\n    <tr>\n      <th>15</th>\n      <td>3655-SNQYZ</td>\n      <td>Female</td>\n      <td>0.0</td>\n      <td>Yes</td>\n      <td>Yes</td>\n      <td>69</td>\n      <td>Yes</td>\n      <td>Yes</td>\n      <td>Fiber optic</td>\n      <td>Yes</td>\n      <td>...</td>\n      <td>Yes</td>\n      <td>Yes</td>\n      <td>Yes</td>\n      <td>Yes</td>\n      <td>Two year</td>\n      <td>No</td>\n      <td>Credit card (automatic)</td>\n      <td>113.25</td>\n      <td>7895.15</td>\n      <td>No</td>\n    </tr>\n    <tr>\n      <th>16</th>\n      <td>8191-XWSZG</td>\n      <td>Female</td>\n      <td>0.0</td>\n      <td>No</td>\n      <td>No</td>\n      <td>52</td>\n      <td>Yes</td>\n      <td>No</td>\n      <td>No</td>\n      <td>No internet service</td>\n      <td>...</td>\n      <td>No internet service</td>\n      <td>No internet service</td>\n      <td>No internet service</td>\n      <td>No internet service</td>\n      <td>One year</td>\n      <td>No</td>\n      <td>Mailed check</td>\n      <td>20.65</td>\n      <td>1022.95</td>\n      <td>No</td>\n    </tr>\n    <tr>\n      <th>17</th>\n      <td>9959-WOFKT</td>\n      <td>Male</td>\n      <td>0.0</td>\n      <td>No</td>\n      <td>Yes</td>\n      <td>71</td>\n      <td>Yes</td>\n      <td>Yes</td>\n      <td>Fiber optic</td>\n      <td>Yes</td>\n      <td>...</td>\n      <td>Yes</td>\n      <td>No</td>\n      <td>Yes</td>\n      <td>Yes</td>\n      <td>Two year</td>\n      <td>No</td>\n      <td>Bank transfer (automatic)</td>\n      <td>106.70</td>\n      <td>7382.25</td>\n      <td>No</td>\n    </tr>\n    <tr>\n      <th>18</th>\n      <td>4190-MFLUW</td>\n      <td>Female</td>\n      <td>0.0</td>\n      <td>Yes</td>\n      <td>Yes</td>\n      <td>10</td>\n      <td>Yes</td>\n      <td>No</td>\n      <td>DSL</td>\n      <td>No</td>\n      <td>...</td>\n      <td>Yes</td>\n      <td>Yes</td>\n      <td>No</td>\n      <td>No</td>\n      <td>Month-to-month</td>\n      <td>No</td>\n      <td>Credit card (automatic)</td>\n      <td>55.20</td>\n      <td>528.35</td>\n      <td>Yes</td>\n    </tr>\n    <tr>\n      <th>19</th>\n      <td>4183-MYFRB</td>\n      <td>Female</td>\n      <td>0.0</td>\n      <td>No</td>\n      <td>No</td>\n      <td>21</td>\n      <td>Yes</td>\n      <td>No</td>\n      <td>Fiber optic</td>\n      <td>No</td>\n      <td>...</td>\n      <td>Yes</td>\n      <td>No</td>\n      <td>No</td>\n      <td>Yes</td>\n      <td>Month-to-month</td>\n      <td>Yes</td>\n      <td>Electronic check</td>\n      <td>90.05</td>\n      <td>1862.9</td>\n      <td>No</td>\n    </tr>\n  </tbody>\n</table>\n<p>20 rows × 21 columns</p>\n</div>"
     },
     "execution_count": 4,
     "metadata": {},
     "output_type": "execute_result"
    }
   ],
   "source": [
    "customers.head(20)"
   ],
   "metadata": {
    "collapsed": false,
    "ExecuteTime": {
     "end_time": "2023-11-15T07:15:51.826486300Z",
     "start_time": "2023-11-15T07:15:51.716993300Z"
    }
   },
   "id": "c2db8f2f6d84198c"
  },
  {
   "cell_type": "code",
   "execution_count": 24,
   "outputs": [
    {
     "name": "stdout",
     "output_type": "stream",
     "text": [
      "<class 'pandas.core.frame.DataFrame'>\n",
      "RangeIndex: 7043 entries, 0 to 7042\n",
      "Data columns (total 21 columns):\n",
      " #   Column            Non-Null Count  Dtype  \n",
      "---  ------            --------------  -----  \n",
      " 0   customerid        7043 non-null   object \n",
      " 1   gender            7043 non-null   object \n",
      " 2   seniorcitizen     7041 non-null   float64\n",
      " 3   partner           7043 non-null   object \n",
      " 4   dependents        7043 non-null   object \n",
      " 5   tenure            7043 non-null   int64  \n",
      " 6   phoneservice      7043 non-null   object \n",
      " 7   multiplelines     7043 non-null   object \n",
      " 8   internetservice   7043 non-null   object \n",
      " 9   onlinesecurity    7043 non-null   object \n",
      " 10  onlinebackup      7043 non-null   object \n",
      " 11  deviceprotection  7043 non-null   object \n",
      " 12  techsupport       7043 non-null   object \n",
      " 13  streamingtv       7043 non-null   object \n",
      " 14  streamingmovies   7043 non-null   object \n",
      " 15  contract          7043 non-null   object \n",
      " 16  paperlessbilling  7043 non-null   object \n",
      " 17  paymentmethod     7043 non-null   object \n",
      " 18  monthlycharges    7043 non-null   float64\n",
      " 19  totalcharges      7043 non-null   object \n",
      " 20  churn             7043 non-null   object \n",
      "dtypes: float64(2), int64(1), object(18)\n",
      "memory usage: 1.1+ MB\n"
     ]
    }
   ],
   "source": [
    "# Приведём столбцы к нижнему регистру:\n",
    "customers.columns = customers.columns.str.lower()\n",
    "customers.info()"
   ],
   "metadata": {
    "collapsed": false,
    "ExecuteTime": {
     "end_time": "2023-11-09T06:06:24.444464Z",
     "start_time": "2023-11-09T06:06:24.420360500Z"
    }
   },
   "id": "f27446455c5729b3"
  },
  {
   "cell_type": "code",
   "execution_count": 25,
   "outputs": [
    {
     "data": {
      "text/plain": "<Axes: >"
     },
     "execution_count": 25,
     "metadata": {},
     "output_type": "execute_result"
    },
    {
     "data": {
      "text/plain": "<Figure size 640x480 with 1 Axes>",
      "image/png": "[encoded data removed]"
     },
     "metadata": {},
     "output_type": "display_data"
    }
   ],
   "source": [
    "# Посмотрим на гистограмму столбца SeniorCitizen:\n",
    "customers['seniorcitizen'].hist()"
   ],
   "metadata": {
    "collapsed": false,
    "ExecuteTime": {
     "end_time": "2023-11-09T06:06:37.227276300Z",
     "start_time": "2023-11-09T06:06:36.923852900Z"
    }
   },
   "id": "12fb1833b5d4438d"
  },
  {
   "cell_type": "code",
   "execution_count": 26,
   "outputs": [
    {
     "name": "stdout",
     "output_type": "stream",
     "text": [
      "<class 'pandas.core.frame.DataFrame'>\n",
      "RangeIndex: 7043 entries, 0 to 7042\n",
      "Data columns (total 21 columns):\n",
      " #   Column            Non-Null Count  Dtype  \n",
      "---  ------            --------------  -----  \n",
      " 0   customerid        7043 non-null   object \n",
      " 1   gender            7043 non-null   object \n",
      " 2   seniorcitizen     7043 non-null   float64\n",
      " 3   partner           7043 non-null   object \n",
      " 4   dependents        7043 non-null   object \n",
      " 5   tenure            7043 non-null   int64  \n",
      " 6   phoneservice      7043 non-null   object \n",
      " 7   multiplelines     7043 non-null   object \n",
      " 8   internetservice   7043 non-null   object \n",
      " 9   onlinesecurity    7043 non-null   object \n",
      " 10  onlinebackup      7043 non-null   object \n",
      " 11  deviceprotection  7043 non-null   object \n",
      " 12  techsupport       7043 non-null   object \n",
      " 13  streamingtv       7043 non-null   object \n",
      " 14  streamingmovies   7043 non-null   object \n",
      " 15  contract          7043 non-null   object \n",
      " 16  paperlessbilling  7043 non-null   object \n",
      " 17  paymentmethod     7043 non-null   object \n",
      " 18  monthlycharges    7043 non-null   float64\n",
      " 19  totalcharges      7043 non-null   object \n",
      " 20  churn             7043 non-null   object \n",
      "dtypes: float64(2), int64(1), object(18)\n",
      "memory usage: 1.1+ MB\n"
     ]
    }
   ],
   "source": [
    "# Заполним пропуски нулями\n",
    "customers.loc[:, 'seniorcitizen'].fillna(0, inplace=True)\n",
    "customers.info()"
   ],
   "metadata": {
    "collapsed": false,
    "ExecuteTime": {
     "end_time": "2023-11-09T06:06:39.463259900Z",
     "start_time": "2023-11-09T06:06:39.399698100Z"
    }
   },
   "id": "3bee3406282aaa9f"
  },
  {
   "cell_type": "code",
   "execution_count": 27,
   "outputs": [
    {
     "data": {
      "text/plain": "<Axes: >"
     },
     "execution_count": 27,
     "metadata": {},
     "output_type": "execute_result"
    },
    {
     "data": {
      "text/plain": "<Figure size 640x480 with 1 Axes>",
      "image/png": "[encoded data removed]"
     },
     "metadata": {},
     "output_type": "display_data"
    }
   ],
   "source": [
    "customers['seniorcitizen'].hist()"
   ],
   "metadata": {
    "collapsed": false,
    "ExecuteTime": {
     "end_time": "2023-11-09T06:06:40.679477100Z",
     "start_time": "2023-11-09T06:06:40.360185100Z"
    }
   },
   "id": "13a5d29919cec091"
  },
  {
   "cell_type": "code",
   "execution_count": 29,
   "outputs": [
    {
     "ename": "KeyError",
     "evalue": "\"['customerid'] not found in axis\"",
     "output_type": "error",
     "traceback": [
      "\u001B[1;31m---------------------------------------------------------------------------\u001B[0m",
      "\u001B[1;31mKeyError\u001B[0m                                  Traceback (most recent call last)",
      "Cell \u001B[1;32mIn[29], line 1\u001B[0m\n\u001B[1;32m----> 1\u001B[0m \u001B[43mcustomers\u001B[49m\u001B[38;5;241;43m.\u001B[39;49m\u001B[43mdrop\u001B[49m\u001B[43m(\u001B[49m\u001B[43m[\u001B[49m\u001B[38;5;124;43m'\u001B[39;49m\u001B[38;5;124;43mcustomerid\u001B[39;49m\u001B[38;5;124;43m'\u001B[39;49m\u001B[43m]\u001B[49m\u001B[43m,\u001B[49m\u001B[43m \u001B[49m\u001B[43maxis\u001B[49m\u001B[38;5;241;43m=\u001B[39;49m\u001B[38;5;241;43m0\u001B[39;49m\u001B[43m,\u001B[49m\u001B[43m \u001B[49m\u001B[43minplace\u001B[49m\u001B[38;5;241;43m=\u001B[39;49m\u001B[38;5;28;43;01mTrue\u001B[39;49;00m\u001B[43m)\u001B[49m\n\u001B[0;32m      2\u001B[0m customers\u001B[38;5;241m.\u001B[39minfo()\n",
      "File \u001B[1;32m~\\PycharmProjects\\BigDataCourseProject\\venv\\Lib\\site-packages\\pandas\\core\\frame.py:5347\u001B[0m, in \u001B[0;36mDataFrame.drop\u001B[1;34m(self, labels, axis, index, columns, level, inplace, errors)\u001B[0m\n\u001B[0;32m   5199\u001B[0m \u001B[38;5;28;01mdef\u001B[39;00m \u001B[38;5;21mdrop\u001B[39m(\n\u001B[0;32m   5200\u001B[0m     \u001B[38;5;28mself\u001B[39m,\n\u001B[0;32m   5201\u001B[0m     labels: IndexLabel \u001B[38;5;241m|\u001B[39m \u001B[38;5;28;01mNone\u001B[39;00m \u001B[38;5;241m=\u001B[39m \u001B[38;5;28;01mNone\u001B[39;00m,\n\u001B[1;32m   (...)\u001B[0m\n\u001B[0;32m   5208\u001B[0m     errors: IgnoreRaise \u001B[38;5;241m=\u001B[39m \u001B[38;5;124m\"\u001B[39m\u001B[38;5;124mraise\u001B[39m\u001B[38;5;124m\"\u001B[39m,\n\u001B[0;32m   5209\u001B[0m ) \u001B[38;5;241m-\u001B[39m\u001B[38;5;241m>\u001B[39m DataFrame \u001B[38;5;241m|\u001B[39m \u001B[38;5;28;01mNone\u001B[39;00m:\n\u001B[0;32m   5210\u001B[0m \u001B[38;5;250m    \u001B[39m\u001B[38;5;124;03m\"\"\"\u001B[39;00m\n\u001B[0;32m   5211\u001B[0m \u001B[38;5;124;03m    Drop specified labels from rows or columns.\u001B[39;00m\n\u001B[0;32m   5212\u001B[0m \n\u001B[1;32m   (...)\u001B[0m\n\u001B[0;32m   5345\u001B[0m \u001B[38;5;124;03m            weight  1.0     0.8\u001B[39;00m\n\u001B[0;32m   5346\u001B[0m \u001B[38;5;124;03m    \"\"\"\u001B[39;00m\n\u001B[1;32m-> 5347\u001B[0m     \u001B[38;5;28;01mreturn\u001B[39;00m \u001B[38;5;28;43msuper\u001B[39;49m\u001B[43m(\u001B[49m\u001B[43m)\u001B[49m\u001B[38;5;241;43m.\u001B[39;49m\u001B[43mdrop\u001B[49m\u001B[43m(\u001B[49m\n\u001B[0;32m   5348\u001B[0m \u001B[43m        \u001B[49m\u001B[43mlabels\u001B[49m\u001B[38;5;241;43m=\u001B[39;49m\u001B[43mlabels\u001B[49m\u001B[43m,\u001B[49m\n\u001B[0;32m   5349\u001B[0m \u001B[43m        \u001B[49m\u001B[43maxis\u001B[49m\u001B[38;5;241;43m=\u001B[39;49m\u001B[43maxis\u001B[49m\u001B[43m,\u001B[49m\n\u001B[0;32m   5350\u001B[0m \u001B[43m        \u001B[49m\u001B[43mindex\u001B[49m\u001B[38;5;241;43m=\u001B[39;49m\u001B[43mindex\u001B[49m\u001B[43m,\u001B[49m\n\u001B[0;32m   5351\u001B[0m \u001B[43m        \u001B[49m\u001B[43mcolumns\u001B[49m\u001B[38;5;241;43m=\u001B[39;49m\u001B[43mcolumns\u001B[49m\u001B[43m,\u001B[49m\n\u001B[0;32m   5352\u001B[0m \u001B[43m        \u001B[49m\u001B[43mlevel\u001B[49m\u001B[38;5;241;43m=\u001B[39;49m\u001B[43mlevel\u001B[49m\u001B[43m,\u001B[49m\n\u001B[0;32m   5353\u001B[0m \u001B[43m        \u001B[49m\u001B[43minplace\u001B[49m\u001B[38;5;241;43m=\u001B[39;49m\u001B[43minplace\u001B[49m\u001B[43m,\u001B[49m\n\u001B[0;32m   5354\u001B[0m \u001B[43m        \u001B[49m\u001B[43merrors\u001B[49m\u001B[38;5;241;43m=\u001B[39;49m\u001B[43merrors\u001B[49m\u001B[43m,\u001B[49m\n\u001B[0;32m   5355\u001B[0m \u001B[43m    \u001B[49m\u001B[43m)\u001B[49m\n",
      "File \u001B[1;32m~\\PycharmProjects\\BigDataCourseProject\\venv\\Lib\\site-packages\\pandas\\core\\generic.py:4711\u001B[0m, in \u001B[0;36mNDFrame.drop\u001B[1;34m(self, labels, axis, index, columns, level, inplace, errors)\u001B[0m\n\u001B[0;32m   4709\u001B[0m \u001B[38;5;28;01mfor\u001B[39;00m axis, labels \u001B[38;5;129;01min\u001B[39;00m axes\u001B[38;5;241m.\u001B[39mitems():\n\u001B[0;32m   4710\u001B[0m     \u001B[38;5;28;01mif\u001B[39;00m labels \u001B[38;5;129;01mis\u001B[39;00m \u001B[38;5;129;01mnot\u001B[39;00m \u001B[38;5;28;01mNone\u001B[39;00m:\n\u001B[1;32m-> 4711\u001B[0m         obj \u001B[38;5;241m=\u001B[39m \u001B[43mobj\u001B[49m\u001B[38;5;241;43m.\u001B[39;49m\u001B[43m_drop_axis\u001B[49m\u001B[43m(\u001B[49m\u001B[43mlabels\u001B[49m\u001B[43m,\u001B[49m\u001B[43m \u001B[49m\u001B[43maxis\u001B[49m\u001B[43m,\u001B[49m\u001B[43m \u001B[49m\u001B[43mlevel\u001B[49m\u001B[38;5;241;43m=\u001B[39;49m\u001B[43mlevel\u001B[49m\u001B[43m,\u001B[49m\u001B[43m \u001B[49m\u001B[43merrors\u001B[49m\u001B[38;5;241;43m=\u001B[39;49m\u001B[43merrors\u001B[49m\u001B[43m)\u001B[49m\n\u001B[0;32m   4713\u001B[0m \u001B[38;5;28;01mif\u001B[39;00m inplace:\n\u001B[0;32m   4714\u001B[0m     \u001B[38;5;28mself\u001B[39m\u001B[38;5;241m.\u001B[39m_update_inplace(obj)\n",
      "File \u001B[1;32m~\\PycharmProjects\\BigDataCourseProject\\venv\\Lib\\site-packages\\pandas\\core\\generic.py:4753\u001B[0m, in \u001B[0;36mNDFrame._drop_axis\u001B[1;34m(self, labels, axis, level, errors, only_slice)\u001B[0m\n\u001B[0;32m   4751\u001B[0m         new_axis \u001B[38;5;241m=\u001B[39m axis\u001B[38;5;241m.\u001B[39mdrop(labels, level\u001B[38;5;241m=\u001B[39mlevel, errors\u001B[38;5;241m=\u001B[39merrors)\n\u001B[0;32m   4752\u001B[0m     \u001B[38;5;28;01melse\u001B[39;00m:\n\u001B[1;32m-> 4753\u001B[0m         new_axis \u001B[38;5;241m=\u001B[39m \u001B[43maxis\u001B[49m\u001B[38;5;241;43m.\u001B[39;49m\u001B[43mdrop\u001B[49m\u001B[43m(\u001B[49m\u001B[43mlabels\u001B[49m\u001B[43m,\u001B[49m\u001B[43m \u001B[49m\u001B[43merrors\u001B[49m\u001B[38;5;241;43m=\u001B[39;49m\u001B[43merrors\u001B[49m\u001B[43m)\u001B[49m\n\u001B[0;32m   4754\u001B[0m     indexer \u001B[38;5;241m=\u001B[39m axis\u001B[38;5;241m.\u001B[39mget_indexer(new_axis)\n\u001B[0;32m   4756\u001B[0m \u001B[38;5;66;03m# Case for non-unique axis\u001B[39;00m\n\u001B[0;32m   4757\u001B[0m \u001B[38;5;28;01melse\u001B[39;00m:\n",
      "File \u001B[1;32m~\\PycharmProjects\\BigDataCourseProject\\venv\\Lib\\site-packages\\pandas\\core\\indexes\\base.py:6992\u001B[0m, in \u001B[0;36mIndex.drop\u001B[1;34m(self, labels, errors)\u001B[0m\n\u001B[0;32m   6990\u001B[0m \u001B[38;5;28;01mif\u001B[39;00m mask\u001B[38;5;241m.\u001B[39many():\n\u001B[0;32m   6991\u001B[0m     \u001B[38;5;28;01mif\u001B[39;00m errors \u001B[38;5;241m!=\u001B[39m \u001B[38;5;124m\"\u001B[39m\u001B[38;5;124mignore\u001B[39m\u001B[38;5;124m\"\u001B[39m:\n\u001B[1;32m-> 6992\u001B[0m         \u001B[38;5;28;01mraise\u001B[39;00m \u001B[38;5;167;01mKeyError\u001B[39;00m(\u001B[38;5;124mf\u001B[39m\u001B[38;5;124m\"\u001B[39m\u001B[38;5;132;01m{\u001B[39;00mlabels[mask]\u001B[38;5;241m.\u001B[39mtolist()\u001B[38;5;132;01m}\u001B[39;00m\u001B[38;5;124m not found in axis\u001B[39m\u001B[38;5;124m\"\u001B[39m)\n\u001B[0;32m   6993\u001B[0m     indexer \u001B[38;5;241m=\u001B[39m indexer[\u001B[38;5;241m~\u001B[39mmask]\n\u001B[0;32m   6994\u001B[0m \u001B[38;5;28;01mreturn\u001B[39;00m \u001B[38;5;28mself\u001B[39m\u001B[38;5;241m.\u001B[39mdelete(indexer)\n",
      "\u001B[1;31mKeyError\u001B[0m: \"['customerid'] not found in axis\""
     ]
    }
   ],
   "source": [
    "customers.drop(['customerid'], axis=0, inplace=True)\n",
    "customers.info()"
   ],
   "metadata": {
    "collapsed": false,
    "ExecuteTime": {
     "end_time": "2023-11-09T06:06:48.732870700Z",
     "start_time": "2023-11-09T06:06:48.620286300Z"
    }
   },
   "id": "8e87d8a45da27f14"
  },
  {
   "cell_type": "code",
   "execution_count": 28,
   "outputs": [],
   "source": [],
   "metadata": {
    "collapsed": false,
    "ExecuteTime": {
     "end_time": "2023-11-09T06:06:44.231061200Z",
     "start_time": "2023-11-09T06:06:44.192983500Z"
    }
   },
   "id": "a4b0695c33d6f869"
  },
  {
   "cell_type": "code",
   "execution_count": null,
   "outputs": [],
   "source": [],
   "metadata": {
    "collapsed": false
   },
   "id": "ae9e7283e18fa995"
  }
 ],
 "metadata": {
  "kernelspec": {
   "display_name": "Python 3",
   "language": "python",
   "name": "python3"
  },
  "language_info": {
   "codemirror_mode": {
    "name": "ipython",
    "version": 2
   },
   "file_extension": ".py",
   "mimetype": "text/x-python",
   "name": "python",
   "nbconvert_exporter": "python",
   "pygments_lexer": "ipython2",
   "version": "2.7.6"
  }
 },
 "nbformat": 4,
 "nbformat_minor": 5
}
