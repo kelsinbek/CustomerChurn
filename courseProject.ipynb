{
 "cells": [
  {
   "cell_type": "markdown",
   "source": [
    "# Курсовой проект по машинному обучению\n",
    "# Анализ клиентской оттока и разработка стратегии удержания клиентов\n",
    "## Использование данных о клиентах X-банка для анализа оттока и разработки стратегии удержания.\n"
   ],
   "metadata": {
    "collapsed": false
   },
   "id": "6adbff4d5d956e49"
  },
  {
   "cell_type": "code",
   "execution_count": null,
   "outputs": [],
   "source": [],
   "metadata": {
    "collapsed": false
   },
   "id": "b52bb88eaa904b10"
  }
 ],
 "metadata": {
  "kernelspec": {
   "display_name": "Python 3",
   "language": "python",
   "name": "python3"
  },
  "language_info": {
   "codemirror_mode": {
    "name": "ipython",
    "version": 2
   },
   "file_extension": ".py",
   "mimetype": "text/x-python",
   "name": "python",
   "nbconvert_exporter": "python",
   "pygments_lexer": "ipython2",
   "version": "2.7.6"
  }
 },
 "nbformat": 4,
 "nbformat_minor": 5
}
